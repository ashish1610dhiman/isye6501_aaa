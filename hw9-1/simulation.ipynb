{
 "cells": [
  {
   "cell_type": "code",
   "execution_count": 1,
   "metadata": {},
   "outputs": [
    {
     "name": "stdout",
     "output_type": "stream",
     "text": [
      "/Users/ashish1610dhiman/data_projects/fall22_hw/isye6501_aaa/hw9-1\r\n"
     ]
    }
   ],
   "source": [
    "!pwd"
   ]
  },
  {
   "cell_type": "code",
   "execution_count": 2,
   "metadata": {},
   "outputs": [
    {
     "name": "stdout",
     "output_type": "stream",
     "text": [
      "homework header.docx simulation.ipynb\r\n",
      "question 13.2.docx   ~$estion 13.2.docx\r\n"
     ]
    }
   ],
   "source": [
    "!ls"
   ]
  },
  {
   "cell_type": "code",
   "execution_count": 3,
   "metadata": {},
   "outputs": [],
   "source": [
    "import simpy\n",
    "import random\n",
    "import pandas as pd\n",
    "\n",
    "import matplotlib.pyplot as plt\n",
    "from matplotlib import cm"
   ]
  },
  {
   "cell_type": "markdown",
   "metadata": {},
   "source": [
    "## Submission HW9 | Fall 22\n",
    "\n",
    "-   Ashish Dhiman | [ashish.dhiman\\@gatech.edu](mailto:ashish.dhiman@gatech.edu)\n",
    "\n",
    "-   Abhinav Arun | [aarun60\\@gatech.edu](mailto:aarun60gatech.edu)\n",
    "\n",
    "-   Anshit Verma | [averma373\\@gatech.edu](mailto:averma373@gatech.edu)"
   ]
  },
  {
   "cell_type": "markdown",
   "metadata": {},
   "source": [
    "### Refrences\n",
    "http://simpy.readthedocs.io/en/latest/simpy_intro/basic_concepts.html  \n",
    "https://realpython.com/simpy-simulating-with-python/#brainstorming-a-simulation-algorithm"
   ]
  },
  {
   "attachments": {},
   "cell_type": "markdown",
   "metadata": {},
   "source": [
    "## We have a Airport, we simplify its modelling as the following steps:\n",
    "### 1. User arriving at airport, with mean interarrival rate m1 = 0.2 mins | Poisson\n",
    "### 2. Get Served by servers, with m2 = 0.75 mins | Exponential\n",
    "### 3. move to personal check queue, where scanning time ~U(0.5,1) | Uniform\n"
   ]
  },
  {
   "cell_type": "code",
   "execution_count": 4,
   "metadata": {},
   "outputs": [],
   "source": [
    "wait_times = [] #store wait time of each individual user"
   ]
  },
  {
   "cell_type": "code",
   "execution_count": 5,
   "metadata": {},
   "outputs": [],
   "source": [
    "m1 = 0.2 #mean rate of arrival for users at airport\n",
    "m2 = 0.75 #mean serving time"
   ]
  },
  {
   "cell_type": "code",
   "execution_count": 6,
   "metadata": {},
   "outputs": [],
   "source": [
    "#Simulation Classs for Airport\n",
    "class Airport(object):\n",
    "    def __init__(self, env, n_server, n_checker):\n",
    "        self.env = env\n",
    "        self.server = simpy.Resource(env, n_server)\n",
    "        self.checker = simpy.Resource(env, n_checker)\n",
    "\n",
    "    def get_served(self, user, m2):\n",
    "        yield self.env.timeout(random.expovariate(1/m2))\n",
    "        \n",
    "    def get_scanned(self, user):\n",
    "        yield self.env.timeout(random.uniform(0.5,1))"
   ]
  },
  {
   "cell_type": "code",
   "execution_count": 7,
   "metadata": {},
   "outputs": [],
   "source": [
    "#Function to model lifecycle of a user at airport\n",
    "def go_to_airport(env, user, airport, m2):\n",
    "    #1. user arrives at the airport\n",
    "    arrival_time = env.now\n",
    "    \n",
    "    #2. Get Served at Airport\n",
    "    with airport.server.request() as request:\n",
    "        yield request\n",
    "        yield env.process(airport.get_served(user, m2))\n",
    "        \n",
    "    #3. Get Scanned at Airport\n",
    "    with airport.checker.request() as request:\n",
    "        yield request\n",
    "        yield env.process(airport.get_scanned(user))\n",
    "        \n",
    "    # Calculate wait time\n",
    "    wait_times.append(env.now - arrival_time)"
   ]
  },
  {
   "cell_type": "code",
   "execution_count": 8,
   "metadata": {},
   "outputs": [],
   "source": [
    "def run_simulation(env, n_server, n_checker, m1, m2):\n",
    "    airport = Airport(env, n_server, n_checker)\n",
    "    \n",
    "    #we start with only one user cureecntly at airport\n",
    "    for user in range(1):\n",
    "        env.process(go_to_airport(env, user, airport, m2))\n",
    "\n",
    "    while True:\n",
    "        yield env.timeout(random.expovariate(1/m1))  # Arrival of new user as defined my m1\n",
    "        user += 1\n",
    "        env.process(go_to_airport(env, user, airport, m2))"
   ]
  },
  {
   "cell_type": "code",
   "execution_count": 9,
   "metadata": {},
   "outputs": [],
   "source": [
    "def get_average_wait_time(wait_times):\n",
    "    average_wait = sum(wait_times)/len(wait_times)\n",
    "    return (average_wait)"
   ]
  },
  {
   "cell_type": "code",
   "execution_count": 10,
   "metadata": {},
   "outputs": [],
   "source": [
    "random.seed(42)"
   ]
  },
  {
   "cell_type": "code",
   "execution_count": 11,
   "metadata": {},
   "outputs": [],
   "source": [
    "env = simpy.Environment()\n",
    "env.process(run_simulation(env, n_server = 20, n_checker = 10, m1 = m1, m2 = m2))\n",
    "env.run(until=60*24*7) #1 week simulation"
   ]
  },
  {
   "cell_type": "code",
   "execution_count": 12,
   "metadata": {},
   "outputs": [
    {
     "data": {
      "text/plain": [
       "50314"
      ]
     },
     "execution_count": 12,
     "metadata": {},
     "output_type": "execute_result"
    }
   ],
   "source": [
    "len(wait_times)"
   ]
  },
  {
   "cell_type": "markdown",
   "metadata": {},
   "source": [
    "### Run Simulation programmatically parameterised by n_server and n_checker"
   ]
  },
  {
   "cell_type": "code",
   "execution_count": 13,
   "metadata": {},
   "outputs": [],
   "source": [
    "m1 = 0.2\n",
    "m2 = 0.75"
   ]
  },
  {
   "cell_type": "code",
   "execution_count": 14,
   "metadata": {},
   "outputs": [],
   "source": [
    "simulation_result = pd.DataFrame()\n",
    "for n_server in [1,2,3,4,5,6,7,8,9,10]:\n",
    "    for n_checker in [1,2,3,4,5,6,7,8,9,10]:\n",
    "        temp = pd.DataFrame()\n",
    "        wait_times = [] #store wait time of each individual user\n",
    "        env = simpy.Environment()\n",
    "        env.process(run_simulation(env, n_server = n_server, n_checker = n_checker, m1 = m1, m2 = m2))\n",
    "        env.run(until=60*24*7)\n",
    "        temp[\"n_server\"] = [n_server]\n",
    "        temp[\"n_checker\"] = [n_checker]\n",
    "        temp[\"avg_wait_time\"] = [get_average_wait_time(wait_times)]\n",
    "        simulation_result = simulation_result.append(temp)"
   ]
  },
  {
   "cell_type": "markdown",
   "metadata": {},
   "source": [
    "### Surface Plot of Avergage Wait time"
   ]
  },
  {
   "cell_type": "code",
   "execution_count": 15,
   "metadata": {},
   "outputs": [
    {
     "data": {
      "image/png": "[encoded data removed]",
      "text/plain": [
       "<Figure size 432x288 with 1 Axes>"
      ]
     },
     "metadata": {
      "needs_background": "light"
     },
     "output_type": "display_data"
    }
   ],
   "source": [
    "fig = plt.figure()\n",
    "ax = plt.axes(projection ='3d')\n",
    "\n",
    "ax.plot_trisurf(simulation_result.n_server, simulation_result.n_checker, simulation_result.avg_wait_time,\\\n",
    "                cmap=cm.jet, linewidth=0.2)\n",
    "plt.show()"
   ]
  },
  {
   "cell_type": "code",
   "execution_count": 16,
   "metadata": {},
   "outputs": [],
   "source": [
    "crosstab = simulation_result.pivot_table(index=[\"n_checker\"],columns=[\"n_server\"],values=[\"avg_wait_time\"])"
   ]
  },
  {
   "cell_type": "code",
   "execution_count": 17,
   "metadata": {},
   "outputs": [
    {
     "data": {
      "text/html": [
       "<style  type=\"text/css\" >\n",
       "    #T_d1a8be1c_54d5_11ed_84d1_2af8bc771d0arow3_col3 {\n",
       "            background-color:  yellow;\n",
       "        }    #T_d1a8be1c_54d5_11ed_84d1_2af8bc771d0arow3_col4 {\n",
       "            background-color:  yellow;\n",
       "        }    #T_d1a8be1c_54d5_11ed_84d1_2af8bc771d0arow3_col5 {\n",
       "            background-color:  yellow;\n",
       "        }    #T_d1a8be1c_54d5_11ed_84d1_2af8bc771d0arow3_col6 {\n",
       "            background-color:  yellow;\n",
       "        }    #T_d1a8be1c_54d5_11ed_84d1_2af8bc771d0arow3_col7 {\n",
       "            background-color:  yellow;\n",
       "        }    #T_d1a8be1c_54d5_11ed_84d1_2af8bc771d0arow3_col8 {\n",
       "            background-color:  yellow;\n",
       "        }    #T_d1a8be1c_54d5_11ed_84d1_2af8bc771d0arow3_col9 {\n",
       "            background-color:  yellow;\n",
       "        }    #T_d1a8be1c_54d5_11ed_84d1_2af8bc771d0arow4_col3 {\n",
       "            background-color:  yellow;\n",
       "        }    #T_d1a8be1c_54d5_11ed_84d1_2af8bc771d0arow4_col4 {\n",
       "            background-color:  yellow;\n",
       "        }    #T_d1a8be1c_54d5_11ed_84d1_2af8bc771d0arow4_col5 {\n",
       "            background-color:  yellow;\n",
       "        }    #T_d1a8be1c_54d5_11ed_84d1_2af8bc771d0arow4_col6 {\n",
       "            background-color:  yellow;\n",
       "        }    #T_d1a8be1c_54d5_11ed_84d1_2af8bc771d0arow4_col7 {\n",
       "            background-color:  yellow;\n",
       "        }    #T_d1a8be1c_54d5_11ed_84d1_2af8bc771d0arow4_col8 {\n",
       "            background-color:  yellow;\n",
       "        }    #T_d1a8be1c_54d5_11ed_84d1_2af8bc771d0arow4_col9 {\n",
       "            background-color:  yellow;\n",
       "        }    #T_d1a8be1c_54d5_11ed_84d1_2af8bc771d0arow5_col3 {\n",
       "            background-color:  yellow;\n",
       "        }    #T_d1a8be1c_54d5_11ed_84d1_2af8bc771d0arow5_col4 {\n",
       "            background-color:  yellow;\n",
       "        }    #T_d1a8be1c_54d5_11ed_84d1_2af8bc771d0arow5_col5 {\n",
       "            background-color:  yellow;\n",
       "        }    #T_d1a8be1c_54d5_11ed_84d1_2af8bc771d0arow5_col6 {\n",
       "            background-color:  yellow;\n",
       "        }    #T_d1a8be1c_54d5_11ed_84d1_2af8bc771d0arow5_col7 {\n",
       "            background-color:  yellow;\n",
       "        }    #T_d1a8be1c_54d5_11ed_84d1_2af8bc771d0arow5_col8 {\n",
       "            background-color:  yellow;\n",
       "        }    #T_d1a8be1c_54d5_11ed_84d1_2af8bc771d0arow5_col9 {\n",
       "            background-color:  yellow;\n",
       "        }    #T_d1a8be1c_54d5_11ed_84d1_2af8bc771d0arow6_col3 {\n",
       "            background-color:  yellow;\n",
       "        }    #T_d1a8be1c_54d5_11ed_84d1_2af8bc771d0arow6_col4 {\n",
       "            background-color:  yellow;\n",
       "        }    #T_d1a8be1c_54d5_11ed_84d1_2af8bc771d0arow6_col5 {\n",
       "            background-color:  yellow;\n",
       "        }    #T_d1a8be1c_54d5_11ed_84d1_2af8bc771d0arow6_col6 {\n",
       "            background-color:  yellow;\n",
       "        }    #T_d1a8be1c_54d5_11ed_84d1_2af8bc771d0arow6_col7 {\n",
       "            background-color:  yellow;\n",
       "        }    #T_d1a8be1c_54d5_11ed_84d1_2af8bc771d0arow6_col8 {\n",
       "            background-color:  yellow;\n",
       "        }    #T_d1a8be1c_54d5_11ed_84d1_2af8bc771d0arow6_col9 {\n",
       "            background-color:  yellow;\n",
       "        }    #T_d1a8be1c_54d5_11ed_84d1_2af8bc771d0arow7_col3 {\n",
       "            background-color:  yellow;\n",
       "        }    #T_d1a8be1c_54d5_11ed_84d1_2af8bc771d0arow7_col4 {\n",
       "            background-color:  yellow;\n",
       "        }    #T_d1a8be1c_54d5_11ed_84d1_2af8bc771d0arow7_col5 {\n",
       "            background-color:  yellow;\n",
       "        }    #T_d1a8be1c_54d5_11ed_84d1_2af8bc771d0arow7_col6 {\n",
       "            background-color:  yellow;\n",
       "        }    #T_d1a8be1c_54d5_11ed_84d1_2af8bc771d0arow7_col7 {\n",
       "            background-color:  yellow;\n",
       "        }    #T_d1a8be1c_54d5_11ed_84d1_2af8bc771d0arow7_col8 {\n",
       "            background-color:  yellow;\n",
       "        }    #T_d1a8be1c_54d5_11ed_84d1_2af8bc771d0arow7_col9 {\n",
       "            background-color:  yellow;\n",
       "        }    #T_d1a8be1c_54d5_11ed_84d1_2af8bc771d0arow8_col3 {\n",
       "            background-color:  yellow;\n",
       "        }    #T_d1a8be1c_54d5_11ed_84d1_2af8bc771d0arow8_col4 {\n",
       "            background-color:  yellow;\n",
       "        }    #T_d1a8be1c_54d5_11ed_84d1_2af8bc771d0arow8_col5 {\n",
       "            background-color:  yellow;\n",
       "        }    #T_d1a8be1c_54d5_11ed_84d1_2af8bc771d0arow8_col6 {\n",
       "            background-color:  yellow;\n",
       "        }    #T_d1a8be1c_54d5_11ed_84d1_2af8bc771d0arow8_col7 {\n",
       "            background-color:  yellow;\n",
       "        }    #T_d1a8be1c_54d5_11ed_84d1_2af8bc771d0arow8_col8 {\n",
       "            background-color:  yellow;\n",
       "        }    #T_d1a8be1c_54d5_11ed_84d1_2af8bc771d0arow8_col9 {\n",
       "            background-color:  yellow;\n",
       "        }    #T_d1a8be1c_54d5_11ed_84d1_2af8bc771d0arow9_col3 {\n",
       "            background-color:  yellow;\n",
       "        }    #T_d1a8be1c_54d5_11ed_84d1_2af8bc771d0arow9_col4 {\n",
       "            background-color:  yellow;\n",
       "        }    #T_d1a8be1c_54d5_11ed_84d1_2af8bc771d0arow9_col5 {\n",
       "            background-color:  yellow;\n",
       "        }    #T_d1a8be1c_54d5_11ed_84d1_2af8bc771d0arow9_col6 {\n",
       "            background-color:  yellow;\n",
       "        }    #T_d1a8be1c_54d5_11ed_84d1_2af8bc771d0arow9_col7 {\n",
       "            background-color:  yellow;\n",
       "        }    #T_d1a8be1c_54d5_11ed_84d1_2af8bc771d0arow9_col8 {\n",
       "            background-color:  yellow;\n",
       "        }    #T_d1a8be1c_54d5_11ed_84d1_2af8bc771d0arow9_col9 {\n",
       "            background-color:  yellow;\n",
       "        }</style><table id=\"T_d1a8be1c_54d5_11ed_84d1_2af8bc771d0a\" ><thead>    <tr>        <th class=\"blank level0\" ></th>        <th class=\"col_heading level0 col0\" colspan=10>avg_wait_time</th>    </tr>    <tr>        <th class=\"index_name level1\" >n_server</th>        <th class=\"col_heading level1 col0\" >1</th>        <th class=\"col_heading level1 col1\" >2</th>        <th class=\"col_heading level1 col2\" >3</th>        <th class=\"col_heading level1 col3\" >4</th>        <th class=\"col_heading level1 col4\" >5</th>        <th class=\"col_heading level1 col5\" >6</th>        <th class=\"col_heading level1 col6\" >7</th>        <th class=\"col_heading level1 col7\" >8</th>        <th class=\"col_heading level1 col8\" >9</th>        <th class=\"col_heading level1 col9\" >10</th>    </tr>    <tr>        <th class=\"index_name level0\" >n_checker</th>        <th class=\"blank\" ></th>        <th class=\"blank\" ></th>        <th class=\"blank\" ></th>        <th class=\"blank\" ></th>        <th class=\"blank\" ></th>        <th class=\"blank\" ></th>        <th class=\"blank\" ></th>        <th class=\"blank\" ></th>        <th class=\"blank\" ></th>        <th class=\"blank\" ></th>    </tr></thead><tbody>\n",
       "                <tr>\n",
       "                        <th id=\"T_d1a8be1c_54d5_11ed_84d1_2af8bc771d0alevel0_row0\" class=\"row_heading level0 row0\" >1</th>\n",
       "                        <td id=\"T_d1a8be1c_54d5_11ed_84d1_2af8bc771d0arow0_col0\" class=\"data row0 col0\" >3716.491903</td>\n",
       "                        <td id=\"T_d1a8be1c_54d5_11ed_84d1_2af8bc771d0arow0_col1\" class=\"data row0 col1\" >3692.079094</td>\n",
       "                        <td id=\"T_d1a8be1c_54d5_11ed_84d1_2af8bc771d0arow0_col2\" class=\"data row0 col2\" >3695.630967</td>\n",
       "                        <td id=\"T_d1a8be1c_54d5_11ed_84d1_2af8bc771d0arow0_col3\" class=\"data row0 col3\" >3687.423282</td>\n",
       "                        <td id=\"T_d1a8be1c_54d5_11ed_84d1_2af8bc771d0arow0_col4\" class=\"data row0 col4\" >3693.314555</td>\n",
       "                        <td id=\"T_d1a8be1c_54d5_11ed_84d1_2af8bc771d0arow0_col5\" class=\"data row0 col5\" >3716.286244</td>\n",
       "                        <td id=\"T_d1a8be1c_54d5_11ed_84d1_2af8bc771d0arow0_col6\" class=\"data row0 col6\" >3673.926020</td>\n",
       "                        <td id=\"T_d1a8be1c_54d5_11ed_84d1_2af8bc771d0arow0_col7\" class=\"data row0 col7\" >3726.357164</td>\n",
       "                        <td id=\"T_d1a8be1c_54d5_11ed_84d1_2af8bc771d0arow0_col8\" class=\"data row0 col8\" >3694.284541</td>\n",
       "                        <td id=\"T_d1a8be1c_54d5_11ed_84d1_2af8bc771d0arow0_col9\" class=\"data row0 col9\" >3703.446345</td>\n",
       "            </tr>\n",
       "            <tr>\n",
       "                        <th id=\"T_d1a8be1c_54d5_11ed_84d1_2af8bc771d0alevel0_row1\" class=\"row_heading level0 row1\" >2</th>\n",
       "                        <td id=\"T_d1a8be1c_54d5_11ed_84d1_2af8bc771d0arow1_col0\" class=\"data row1 col0\" >3684.916917</td>\n",
       "                        <td id=\"T_d1a8be1c_54d5_11ed_84d1_2af8bc771d0arow1_col1\" class=\"data row1 col1\" >2366.143129</td>\n",
       "                        <td id=\"T_d1a8be1c_54d5_11ed_84d1_2af8bc771d0arow1_col2\" class=\"data row1 col2\" >2384.140668</td>\n",
       "                        <td id=\"T_d1a8be1c_54d5_11ed_84d1_2af8bc771d0arow1_col3\" class=\"data row1 col3\" >2360.009033</td>\n",
       "                        <td id=\"T_d1a8be1c_54d5_11ed_84d1_2af8bc771d0arow1_col4\" class=\"data row1 col4\" >2377.729755</td>\n",
       "                        <td id=\"T_d1a8be1c_54d5_11ed_84d1_2af8bc771d0arow1_col5\" class=\"data row1 col5\" >2347.576528</td>\n",
       "                        <td id=\"T_d1a8be1c_54d5_11ed_84d1_2af8bc771d0arow1_col6\" class=\"data row1 col6\" >2389.855807</td>\n",
       "                        <td id=\"T_d1a8be1c_54d5_11ed_84d1_2af8bc771d0arow1_col7\" class=\"data row1 col7\" >2354.648364</td>\n",
       "                        <td id=\"T_d1a8be1c_54d5_11ed_84d1_2af8bc771d0arow1_col8\" class=\"data row1 col8\" >2338.362830</td>\n",
       "                        <td id=\"T_d1a8be1c_54d5_11ed_84d1_2af8bc771d0arow1_col9\" class=\"data row1 col9\" >2358.201265</td>\n",
       "            </tr>\n",
       "            <tr>\n",
       "                        <th id=\"T_d1a8be1c_54d5_11ed_84d1_2af8bc771d0alevel0_row2\" class=\"row_heading level0 row2\" >3</th>\n",
       "                        <td id=\"T_d1a8be1c_54d5_11ed_84d1_2af8bc771d0arow2_col0\" class=\"data row2 col0\" >3689.325799</td>\n",
       "                        <td id=\"T_d1a8be1c_54d5_11ed_84d1_2af8bc771d0arow2_col1\" class=\"data row2 col1\" >2334.515615</td>\n",
       "                        <td id=\"T_d1a8be1c_54d5_11ed_84d1_2af8bc771d0arow2_col2\" class=\"data row2 col2\" >1053.121263</td>\n",
       "                        <td id=\"T_d1a8be1c_54d5_11ed_84d1_2af8bc771d0arow2_col3\" class=\"data row2 col3\" >1065.660850</td>\n",
       "                        <td id=\"T_d1a8be1c_54d5_11ed_84d1_2af8bc771d0arow2_col4\" class=\"data row2 col4\" >1021.793087</td>\n",
       "                        <td id=\"T_d1a8be1c_54d5_11ed_84d1_2af8bc771d0arow2_col5\" class=\"data row2 col5\" >1018.284800</td>\n",
       "                        <td id=\"T_d1a8be1c_54d5_11ed_84d1_2af8bc771d0arow2_col6\" class=\"data row2 col6\" >1007.866197</td>\n",
       "                        <td id=\"T_d1a8be1c_54d5_11ed_84d1_2af8bc771d0arow2_col7\" class=\"data row2 col7\" >975.652926</td>\n",
       "                        <td id=\"T_d1a8be1c_54d5_11ed_84d1_2af8bc771d0arow2_col8\" class=\"data row2 col8\" >1013.348194</td>\n",
       "                        <td id=\"T_d1a8be1c_54d5_11ed_84d1_2af8bc771d0arow2_col9\" class=\"data row2 col9\" >1021.545660</td>\n",
       "            </tr>\n",
       "            <tr>\n",
       "                        <th id=\"T_d1a8be1c_54d5_11ed_84d1_2af8bc771d0alevel0_row3\" class=\"row_heading level0 row3\" >4</th>\n",
       "                        <td id=\"T_d1a8be1c_54d5_11ed_84d1_2af8bc771d0arow3_col0\" class=\"data row3 col0\" >3639.282797</td>\n",
       "                        <td id=\"T_d1a8be1c_54d5_11ed_84d1_2af8bc771d0arow3_col1\" class=\"data row3 col1\" >2340.152878</td>\n",
       "                        <td id=\"T_d1a8be1c_54d5_11ed_84d1_2af8bc771d0arow3_col2\" class=\"data row3 col2\" >1015.040673</td>\n",
       "                        <td id=\"T_d1a8be1c_54d5_11ed_84d1_2af8bc771d0arow3_col3\" class=\"data row3 col3\" >5.975287</td>\n",
       "                        <td id=\"T_d1a8be1c_54d5_11ed_84d1_2af8bc771d0arow3_col4\" class=\"data row3 col4\" >2.976831</td>\n",
       "                        <td id=\"T_d1a8be1c_54d5_11ed_84d1_2af8bc771d0arow3_col5\" class=\"data row3 col5\" >3.084255</td>\n",
       "                        <td id=\"T_d1a8be1c_54d5_11ed_84d1_2af8bc771d0arow3_col6\" class=\"data row3 col6\" >2.841865</td>\n",
       "                        <td id=\"T_d1a8be1c_54d5_11ed_84d1_2af8bc771d0arow3_col7\" class=\"data row3 col7\" >3.057439</td>\n",
       "                        <td id=\"T_d1a8be1c_54d5_11ed_84d1_2af8bc771d0arow3_col8\" class=\"data row3 col8\" >2.750894</td>\n",
       "                        <td id=\"T_d1a8be1c_54d5_11ed_84d1_2af8bc771d0arow3_col9\" class=\"data row3 col9\" >2.740837</td>\n",
       "            </tr>\n",
       "            <tr>\n",
       "                        <th id=\"T_d1a8be1c_54d5_11ed_84d1_2af8bc771d0alevel0_row4\" class=\"row_heading level0 row4\" >5</th>\n",
       "                        <td id=\"T_d1a8be1c_54d5_11ed_84d1_2af8bc771d0arow4_col0\" class=\"data row4 col0\" >3655.010989</td>\n",
       "                        <td id=\"T_d1a8be1c_54d5_11ed_84d1_2af8bc771d0arow4_col1\" class=\"data row4 col1\" >2372.683285</td>\n",
       "                        <td id=\"T_d1a8be1c_54d5_11ed_84d1_2af8bc771d0arow4_col2\" class=\"data row4 col2\" >997.339219</td>\n",
       "                        <td id=\"T_d1a8be1c_54d5_11ed_84d1_2af8bc771d0arow4_col3\" class=\"data row4 col3\" >5.320360</td>\n",
       "                        <td id=\"T_d1a8be1c_54d5_11ed_84d1_2af8bc771d0arow4_col4\" class=\"data row4 col4\" >1.957380</td>\n",
       "                        <td id=\"T_d1a8be1c_54d5_11ed_84d1_2af8bc771d0arow4_col5\" class=\"data row4 col5\" >1.722244</td>\n",
       "                        <td id=\"T_d1a8be1c_54d5_11ed_84d1_2af8bc771d0arow4_col6\" class=\"data row4 col6\" >1.667509</td>\n",
       "                        <td id=\"T_d1a8be1c_54d5_11ed_84d1_2af8bc771d0arow4_col7\" class=\"data row4 col7\" >1.667357</td>\n",
       "                        <td id=\"T_d1a8be1c_54d5_11ed_84d1_2af8bc771d0arow4_col8\" class=\"data row4 col8\" >1.655995</td>\n",
       "                        <td id=\"T_d1a8be1c_54d5_11ed_84d1_2af8bc771d0arow4_col9\" class=\"data row4 col9\" >1.641931</td>\n",
       "            </tr>\n",
       "            <tr>\n",
       "                        <th id=\"T_d1a8be1c_54d5_11ed_84d1_2af8bc771d0alevel0_row5\" class=\"row_heading level0 row5\" >6</th>\n",
       "                        <td id=\"T_d1a8be1c_54d5_11ed_84d1_2af8bc771d0arow5_col0\" class=\"data row5 col0\" >3701.489819</td>\n",
       "                        <td id=\"T_d1a8be1c_54d5_11ed_84d1_2af8bc771d0arow5_col1\" class=\"data row5 col1\" >2365.330409</td>\n",
       "                        <td id=\"T_d1a8be1c_54d5_11ed_84d1_2af8bc771d0arow5_col2\" class=\"data row5 col2\" >982.718131</td>\n",
       "                        <td id=\"T_d1a8be1c_54d5_11ed_84d1_2af8bc771d0arow5_col3\" class=\"data row5 col3\" >4.540497</td>\n",
       "                        <td id=\"T_d1a8be1c_54d5_11ed_84d1_2af8bc771d0arow5_col4\" class=\"data row5 col4\" >1.822586</td>\n",
       "                        <td id=\"T_d1a8be1c_54d5_11ed_84d1_2af8bc771d0arow5_col5\" class=\"data row5 col5\" >1.617911</td>\n",
       "                        <td id=\"T_d1a8be1c_54d5_11ed_84d1_2af8bc771d0arow5_col6\" class=\"data row5 col6\" >1.563204</td>\n",
       "                        <td id=\"T_d1a8be1c_54d5_11ed_84d1_2af8bc771d0arow5_col7\" class=\"data row5 col7\" >1.548601</td>\n",
       "                        <td id=\"T_d1a8be1c_54d5_11ed_84d1_2af8bc771d0arow5_col8\" class=\"data row5 col8\" >1.551041</td>\n",
       "                        <td id=\"T_d1a8be1c_54d5_11ed_84d1_2af8bc771d0arow5_col9\" class=\"data row5 col9\" >1.539612</td>\n",
       "            </tr>\n",
       "            <tr>\n",
       "                        <th id=\"T_d1a8be1c_54d5_11ed_84d1_2af8bc771d0alevel0_row6\" class=\"row_heading level0 row6\" >7</th>\n",
       "                        <td id=\"T_d1a8be1c_54d5_11ed_84d1_2af8bc771d0arow6_col0\" class=\"data row6 col0\" >3713.767761</td>\n",
       "                        <td id=\"T_d1a8be1c_54d5_11ed_84d1_2af8bc771d0arow6_col1\" class=\"data row6 col1\" >2276.132890</td>\n",
       "                        <td id=\"T_d1a8be1c_54d5_11ed_84d1_2af8bc771d0arow6_col2\" class=\"data row6 col2\" >1048.074939</td>\n",
       "                        <td id=\"T_d1a8be1c_54d5_11ed_84d1_2af8bc771d0arow6_col3\" class=\"data row6 col3\" >4.359828</td>\n",
       "                        <td id=\"T_d1a8be1c_54d5_11ed_84d1_2af8bc771d0arow6_col4\" class=\"data row6 col4\" >1.804027</td>\n",
       "                        <td id=\"T_d1a8be1c_54d5_11ed_84d1_2af8bc771d0arow6_col5\" class=\"data row6 col5\" >1.595110</td>\n",
       "                        <td id=\"T_d1a8be1c_54d5_11ed_84d1_2af8bc771d0arow6_col6\" class=\"data row6 col6\" >1.536359</td>\n",
       "                        <td id=\"T_d1a8be1c_54d5_11ed_84d1_2af8bc771d0arow6_col7\" class=\"data row6 col7\" >1.519974</td>\n",
       "                        <td id=\"T_d1a8be1c_54d5_11ed_84d1_2af8bc771d0arow6_col8\" class=\"data row6 col8\" >1.516511</td>\n",
       "                        <td id=\"T_d1a8be1c_54d5_11ed_84d1_2af8bc771d0arow6_col9\" class=\"data row6 col9\" >1.515183</td>\n",
       "            </tr>\n",
       "            <tr>\n",
       "                        <th id=\"T_d1a8be1c_54d5_11ed_84d1_2af8bc771d0alevel0_row7\" class=\"row_heading level0 row7\" >8</th>\n",
       "                        <td id=\"T_d1a8be1c_54d5_11ed_84d1_2af8bc771d0arow7_col0\" class=\"data row7 col0\" >3684.011531</td>\n",
       "                        <td id=\"T_d1a8be1c_54d5_11ed_84d1_2af8bc771d0arow7_col1\" class=\"data row7 col1\" >2425.851291</td>\n",
       "                        <td id=\"T_d1a8be1c_54d5_11ed_84d1_2af8bc771d0arow7_col2\" class=\"data row7 col2\" >1017.163374</td>\n",
       "                        <td id=\"T_d1a8be1c_54d5_11ed_84d1_2af8bc771d0arow7_col3\" class=\"data row7 col3\" >3.592621</td>\n",
       "                        <td id=\"T_d1a8be1c_54d5_11ed_84d1_2af8bc771d0arow7_col4\" class=\"data row7 col4\" >1.799023</td>\n",
       "                        <td id=\"T_d1a8be1c_54d5_11ed_84d1_2af8bc771d0arow7_col5\" class=\"data row7 col5\" >1.577302</td>\n",
       "                        <td id=\"T_d1a8be1c_54d5_11ed_84d1_2af8bc771d0arow7_col6\" class=\"data row7 col6\" >1.528133</td>\n",
       "                        <td id=\"T_d1a8be1c_54d5_11ed_84d1_2af8bc771d0arow7_col7\" class=\"data row7 col7\" >1.508735</td>\n",
       "                        <td id=\"T_d1a8be1c_54d5_11ed_84d1_2af8bc771d0arow7_col8\" class=\"data row7 col8\" >1.505826</td>\n",
       "                        <td id=\"T_d1a8be1c_54d5_11ed_84d1_2af8bc771d0arow7_col9\" class=\"data row7 col9\" >1.504974</td>\n",
       "            </tr>\n",
       "            <tr>\n",
       "                        <th id=\"T_d1a8be1c_54d5_11ed_84d1_2af8bc771d0alevel0_row8\" class=\"row_heading level0 row8\" >9</th>\n",
       "                        <td id=\"T_d1a8be1c_54d5_11ed_84d1_2af8bc771d0arow8_col0\" class=\"data row8 col0\" >3674.329525</td>\n",
       "                        <td id=\"T_d1a8be1c_54d5_11ed_84d1_2af8bc771d0arow8_col1\" class=\"data row8 col1\" >2406.639102</td>\n",
       "                        <td id=\"T_d1a8be1c_54d5_11ed_84d1_2af8bc771d0arow8_col2\" class=\"data row8 col2\" >975.385731</td>\n",
       "                        <td id=\"T_d1a8be1c_54d5_11ed_84d1_2af8bc771d0arow8_col3\" class=\"data row8 col3\" >3.795537</td>\n",
       "                        <td id=\"T_d1a8be1c_54d5_11ed_84d1_2af8bc771d0arow8_col4\" class=\"data row8 col4\" >1.780110</td>\n",
       "                        <td id=\"T_d1a8be1c_54d5_11ed_84d1_2af8bc771d0arow8_col5\" class=\"data row8 col5\" >1.581647</td>\n",
       "                        <td id=\"T_d1a8be1c_54d5_11ed_84d1_2af8bc771d0arow8_col6\" class=\"data row8 col6\" >1.524363</td>\n",
       "                        <td id=\"T_d1a8be1c_54d5_11ed_84d1_2af8bc771d0arow8_col7\" class=\"data row8 col7\" >1.508714</td>\n",
       "                        <td id=\"T_d1a8be1c_54d5_11ed_84d1_2af8bc771d0arow8_col8\" class=\"data row8 col8\" >1.497718</td>\n",
       "                        <td id=\"T_d1a8be1c_54d5_11ed_84d1_2af8bc771d0arow8_col9\" class=\"data row8 col9\" >1.502849</td>\n",
       "            </tr>\n",
       "            <tr>\n",
       "                        <th id=\"T_d1a8be1c_54d5_11ed_84d1_2af8bc771d0alevel0_row9\" class=\"row_heading level0 row9\" >10</th>\n",
       "                        <td id=\"T_d1a8be1c_54d5_11ed_84d1_2af8bc771d0arow9_col0\" class=\"data row9 col0\" >3716.295687</td>\n",
       "                        <td id=\"T_d1a8be1c_54d5_11ed_84d1_2af8bc771d0arow9_col1\" class=\"data row9 col1\" >2304.480342</td>\n",
       "                        <td id=\"T_d1a8be1c_54d5_11ed_84d1_2af8bc771d0arow9_col2\" class=\"data row9 col2\" >965.178482</td>\n",
       "                        <td id=\"T_d1a8be1c_54d5_11ed_84d1_2af8bc771d0arow9_col3\" class=\"data row9 col3\" >3.736120</td>\n",
       "                        <td id=\"T_d1a8be1c_54d5_11ed_84d1_2af8bc771d0arow9_col4\" class=\"data row9 col4\" >1.770065</td>\n",
       "                        <td id=\"T_d1a8be1c_54d5_11ed_84d1_2af8bc771d0arow9_col5\" class=\"data row9 col5\" >1.589765</td>\n",
       "                        <td id=\"T_d1a8be1c_54d5_11ed_84d1_2af8bc771d0arow9_col6\" class=\"data row9 col6\" >1.520183</td>\n",
       "                        <td id=\"T_d1a8be1c_54d5_11ed_84d1_2af8bc771d0arow9_col7\" class=\"data row9 col7\" >1.506596</td>\n",
       "                        <td id=\"T_d1a8be1c_54d5_11ed_84d1_2af8bc771d0arow9_col8\" class=\"data row9 col8\" >1.502157</td>\n",
       "                        <td id=\"T_d1a8be1c_54d5_11ed_84d1_2af8bc771d0arow9_col9\" class=\"data row9 col9\" >1.500902</td>\n",
       "            </tr>\n",
       "    </tbody></table>"
      ],
      "text/plain": [
       "<pandas.io.formats.style.Styler at 0x7fec8b0761c0>"
      ]
     },
     "execution_count": 17,
     "metadata": {},
     "output_type": "execute_result"
    }
   ],
   "source": [
    "def lt_15min(cell_value):\n",
    "\n",
    "    highlight = 'background-color: yellow;'\n",
    "    default = ''\n",
    "\n",
    "    if type(cell_value) in [float, int]:\n",
    "        if cell_value <=15.0:\n",
    "            return highlight\n",
    "    return default\n",
    "\n",
    "crosstab.style.applymap(lt_15min)"
   ]
  },
  {
   "cell_type": "markdown",
   "metadata": {},
   "source": [
    "### Discussion\n",
    "1. As seen in the highlighted cells above, for any n_server>=4 and n_checker>=4. We have avg wait time less than 15 mins\n",
    "\n",
    "2. Our simulation seems reasonable, since if we keep n_server constant at 1, it creates a bottle neck in the Airport system, and in this case increase in n_checker does not improve wait times. Similar beahviour is seen for n_checker =1, with which n_server becomes redundant.\n",
    "\n",
    "3. Apart from the bottle neck, increasing both n_checker and n_server improves wait time. Although, the rate of improvement increases and then plateaus at higher values."
   ]
  },
  {
   "cell_type": "code",
   "execution_count": null,
   "metadata": {},
   "outputs": [],
   "source": []
  },
  {
   "cell_type": "code",
   "execution_count": null,
   "metadata": {},
   "outputs": [],
   "source": []
  },
  {
   "cell_type": "code",
   "execution_count": null,
   "metadata": {},
   "outputs": [],
   "source": []
  }
 ],
 "metadata": {
  "kernelspec": {
   "display_name": "Python 3",
   "language": "python",
   "name": "python3"
  },
  "language_info": {
   "codemirror_mode": {
    "name": "ipython",
    "version": 3
   },
   "file_extension": ".py",
   "mimetype": "text/x-python",
   "name": "python",
   "nbconvert_exporter": "python",
   "pygments_lexer": "ipython3",
   "version": "3.8.3"
  }
 },
 "nbformat": 4,
 "nbformat_minor": 4
}
